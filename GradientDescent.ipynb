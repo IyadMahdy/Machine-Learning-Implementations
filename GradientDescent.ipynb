{
 "cells": [
  {
   "cell_type": "code",
   "execution_count": 88,
   "id": "87b71e3c-2202-4e04-ba91-c2ee482fe539",
   "metadata": {},
   "outputs": [],
   "source": [
    "import numpy as np\n",
    "from sklearn.model_selection import train_test_split\n",
    "from sklearn.datasets import make_regression"
   ]
  },
  {
   "cell_type": "markdown",
   "id": "a6a4aba7-7c1d-46e6-9d73-a0036b2d890d",
   "metadata": {},
   "source": [
    "## Creating a Regression Dataset"
   ]
  },
  {
   "cell_type": "code",
   "execution_count": 99,
   "id": "2c79a56d-103f-44d8-93b7-7bfe9c53537d",
   "metadata": {},
   "outputs": [
    {
     "data": {
      "text/plain": [
       "((1000, 3), (1000, 1))"
      ]
     },
     "execution_count": 99,
     "metadata": {},
     "output_type": "execute_result"
    }
   ],
   "source": [
    "X, y = make_regression(n_samples=1000, n_features=3)\n",
    "y = y.reshape(-1, 1)\n",
    "\n",
    "\n",
    "X.shape, y.shape"
   ]
  },
  {
   "cell_type": "markdown",
   "id": "4b87dcfd-a752-409b-8192-aae6474585a3",
   "metadata": {},
   "source": [
    "## Adding a 1s Column for the Bias Term"
   ]
  },
  {
   "cell_type": "code",
   "execution_count": 100,
   "id": "a92cc612-33eb-4ee0-b8f1-3bb91d8e44a1",
   "metadata": {},
   "outputs": [
    {
     "data": {
      "text/plain": [
       "(1000, 4)"
      ]
     },
     "execution_count": 100,
     "metadata": {},
     "output_type": "execute_result"
    }
   ],
   "source": [
    "ones_column = np.ones((X.shape[0], 1))\n",
    "X_augmented = np.hstack((ones_column, X))\n",
    "X_augmented.shape"
   ]
  },
  {
   "cell_type": "markdown",
   "id": "289f66a2-e9c6-4145-b627-536578ff5e3b",
   "metadata": {},
   "source": [
    "## Splitting the Data"
   ]
  },
  {
   "cell_type": "code",
   "execution_count": 101,
   "id": "44117280-139c-40f7-983e-2bce97950707",
   "metadata": {},
   "outputs": [
    {
     "data": {
      "text/plain": [
       "((700, 4), (300, 4), (700, 1), (300, 1))"
      ]
     },
     "execution_count": 101,
     "metadata": {},
     "output_type": "execute_result"
    }
   ],
   "source": [
    "X_train, X_test, y_train, y_test = train_test_split(\n",
    "    X_augmented, y, test_size=0.3, random_state=42\n",
    ")\n",
    "\n",
    "\n",
    "X_train.shape, X_test.shape, y_train.shape, y_test.shape"
   ]
  },
  {
   "cell_type": "markdown",
   "id": "24e8e94c-6d2e-4f64-bc2c-3c4f8296a0d7",
   "metadata": {},
   "source": [
    "## Initializing the Weights Vector"
   ]
  },
  {
   "cell_type": "code",
   "execution_count": 103,
   "id": "de55f884-334a-499d-9bd9-94375cf1a637",
   "metadata": {},
   "outputs": [
    {
     "data": {
      "text/plain": [
       "array([[ 0.61273649],\n",
       "       [ 0.18933135],\n",
       "       [-2.24208829],\n",
       "       [ 0.31617437]])"
      ]
     },
     "execution_count": 103,
     "metadata": {},
     "output_type": "execute_result"
    }
   ],
   "source": [
    "weights = np.random.randn(X_augmented.shape[1], 1)\n",
    "weights"
   ]
  },
  {
   "cell_type": "markdown",
   "id": "32b29cdc-abc5-4280-9e97-d20eb6a8954c",
   "metadata": {},
   "source": [
    "## Implementing the Loss Function"
   ]
  },
  {
   "cell_type": "code",
   "execution_count": 104,
   "id": "890d3ae3-cc76-4870-b04b-411e46af3fcd",
   "metadata": {},
   "outputs": [],
   "source": [
    "def get_loss(y, y_pred):\n",
    "    return (1 / 2) * np.mean((y - y_pred) ** 2)"
   ]
  },
  {
   "cell_type": "markdown",
   "id": "c483a18d",
   "metadata": {},
   "source": [
    "## Implementing Gradient Descent Function"
   ]
  },
  {
   "cell_type": "code",
   "execution_count": 107,
   "id": "f8d02c13",
   "metadata": {},
   "outputs": [],
   "source": [
    "def gradient_descent(X, y, W, learning_rate=0.1, iterations=100):\n",
    "    m = X.shape[0]\n",
    "    weight = W.copy()\n",
    "\n",
    "    for i in range(iterations):\n",
    "        y_pred = X @ weight\n",
    "\n",
    "        error = y - y_pred\n",
    "\n",
    "        gradient = -(1 / m) * (X.T @ error)\n",
    "\n",
    "        weight -= learning_rate * gradient\n",
    "\n",
    "        loss = get_loss(y, y_pred)\n",
    "\n",
    "        if (i + 1) % 10 == 0:\n",
    "            print(f\"Iteration {i+1} : loss = {loss:.4f}\")\n",
    "\n",
    "    return weight"
   ]
  },
  {
   "cell_type": "markdown",
   "id": "2f743f58-7e5a-47b0-8ddc-dad10d4bdd6d",
   "metadata": {},
   "source": [
    "## Acquiring the New Weights"
   ]
  },
  {
   "cell_type": "code",
   "execution_count": 108,
   "id": "3963976d-fb0e-4834-8811-64ae1daa7ff6",
   "metadata": {},
   "outputs": [
    {
     "name": "stdout",
     "output_type": "stream",
     "text": [
      "Iteration 10 : loss = 588.4392\n",
      "Iteration 20 : loss = 80.2253\n",
      "Iteration 30 : loss = 11.3031\n",
      "Iteration 40 : loss = 1.6330\n",
      "Iteration 50 : loss = 0.2403\n",
      "Iteration 60 : loss = 0.0358\n",
      "Iteration 70 : loss = 0.0054\n",
      "Iteration 80 : loss = 0.0008\n",
      "Iteration 90 : loss = 0.0001\n",
      "Iteration 100 : loss = 0.0000\n"
     ]
    }
   ],
   "source": [
    "new_weights = gradient_descent(X_train, y_train, weights)"
   ]
  },
  {
   "cell_type": "code",
   "execution_count": 109,
   "id": "0f3cbbfe-ee04-4c02-9908-ead4b61475a7",
   "metadata": {},
   "outputs": [
    {
     "name": "stdout",
     "output_type": "stream",
     "text": [
      "old weights:\n",
      " [[ 0.61273649]\n",
      " [ 0.18933135]\n",
      " [-2.24208829]\n",
      " [ 0.31617437]]\n",
      "new weights:\n",
      " [[-1.89750467e-03]\n",
      " [ 4.66191058e+01]\n",
      " [ 4.56950444e+01]\n",
      " [ 5.62735671e+01]]\n"
     ]
    }
   ],
   "source": [
    "print(\"old weights:\\n\", weights)\n",
    "print(\"new weights:\\n\", new_weights)"
   ]
  },
  {
   "cell_type": "markdown",
   "id": "dee94930-998e-467e-b508-e64cfa47b47d",
   "metadata": {},
   "source": [
    "## Testing the New Weights"
   ]
  },
  {
   "cell_type": "code",
   "execution_count": null,
   "id": "97b870f2-567e-447e-b293-54eec38a17da",
   "metadata": {},
   "outputs": [
    {
     "data": {
      "text/plain": [
       "1.928992842586472e-05"
      ]
     },
     "execution_count": 112,
     "metadata": {},
     "output_type": "execute_result"
    }
   ],
   "source": [
    "y_pred = X_test @ new_weights\n",
    "\n",
    "get_loss(y_test, y_pred)"
   ]
  },
  {
   "cell_type": "code",
   "execution_count": null,
   "id": "270fabea-632f-4d9d-9856-8ccc1952f9b9",
   "metadata": {},
   "outputs": [
    {
     "data": {
      "text/plain": [
       "3.857985685172944e-05"
      ]
     },
     "execution_count": 111,
     "metadata": {},
     "output_type": "execute_result"
    }
   ],
   "source": [
    "from sklearn.metrics import mean_squared_error\n",
    "\n",
    "mean_squared_error(y_test, y_pred)"
   ]
  }
 ],
 "metadata": {
  "kernelspec": {
   "display_name": "Python 3 (ipykernel)",
   "language": "python",
   "name": "python3"
  },
  "language_info": {
   "codemirror_mode": {
    "name": "ipython",
    "version": 3
   },
   "file_extension": ".py",
   "mimetype": "text/x-python",
   "name": "python",
   "nbconvert_exporter": "python",
   "pygments_lexer": "ipython3",
   "version": "3.11.7"
  }
 },
 "nbformat": 4,
 "nbformat_minor": 5
}
